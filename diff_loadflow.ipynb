{
 "cells": [
  {
   "cell_type": "markdown",
   "metadata": {},
   "source": [
    "# Automatic Differentiation for Power System Analysis\n",
    "\n",
    "*This notebook calculates marginal loss factors of a power system using automatic differentiation.*\n",
    "\n",
    "The marginal loss factor (MLF) at a connection node is defined as the rate of change of system generation at the reference node with respect to the change in load at the connection node. The reference node is defined arbitrarily.\n",
    "That is, an MLF of >1 indicates that system losses as a ratio of total system load increase when load is added at that node.\n",
    "\n",
    "Clearly, this can be approximately calculated by placing all slack generation at the reference node and slightly changing the load at the connection node.\n",
    "\n",
    "However, if we represent the loads at all nodes of the system as a vector then we can write a simple function $P_{slack} = f(\\vec{P}_{load})$ which takes as input the change to the power system loads (as a vector) and returns the resulting total slack bus power injection. **The gradient of this function will be the marginal loss factors of all nodes.**\n"
   ]
  },
  {
   "cell_type": "markdown",
   "metadata": {},
   "source": [
    "## This Notebook\n",
    "\n",
    "Below is code for calculating MLFs both using finite differences and through automatic differentiation with a custom Gauss-Seidel power flow implementation. A custom implementation is required to make it compatible with the `autograd` package.\n",
    "\n",
    "Hopefully the Gauss-Seidel implementation is a useful standalone reference as a fairly compact numpy based implementation. I've found it's hard to find simple Python implementations. Note that it will probably fall apart if you put unexpected things in the pandapower network like constant impedance loads or buses that aren't numbered contiguously 0 through n.\n",
    "\n",
    "To use this notebook first ``pip install -r requirements.txt``"
   ]
  },
  {
   "cell_type": "code",
   "execution_count": 1,
   "metadata": {},
   "outputs": [],
   "source": [
    "import pandapower as pp\n",
    "import pandapower.networks as ppnw\n",
    "import autograd.numpy as np\n",
    "from autograd import grad\n",
    "from copy import deepcopy\n",
    "np.set_printoptions(formatter={'complexfloat': lambda x: \"{0:.3f}\".format(x),\n",
    "                               'float_kind': lambda x: \"{0:.3f}\".format(x)})"
   ]
  },
  {
   "cell_type": "markdown",
   "metadata": {},
   "source": [
    "# I. Finite Differences\n",
    "\n",
    "To start with, MLFs can be calculated using a simple finite differences approach.\n",
    "This simple approach serves as a baseline to establish what the expected results are.\n",
    "\n",
    "Notably what we see is that bus 0 has an MLF of 1, because it's the slack bus."
   ]
  },
  {
   "cell_type": "code",
   "execution_count": 2,
   "metadata": {},
   "outputs": [],
   "source": [
    "def fin_diff(f, x, eps=1e-6):\n",
    "    \"\"\" Finite difference approximation of grad of function f. From JAX docs. \"\"\"\n",
    "    return np.array([(f(x + eps*v) - f(x - eps*v)) / (2*eps) for v in np.eye(len(x))])\n",
    "\n",
    "\n",
    "def run_lf_pp(load_p, net, algorithm='nr'):\n",
    "    \"\"\" Calculate total slack generation with given load power changes.\n",
    "\n",
    "    Args:\n",
    "        load_p (iterable): Iterable of additional loads to add to network.\n",
    "            Index i will add load to bus i.\n",
    "        net (pp.Network):\n",
    "        algorithm (str): Algorithm to pass to pandapower solver.\n",
    "\n",
    "    Returns:\n",
    "        float: Sum of real power injected by slack buses in the network.\n",
    "    \"\"\"\n",
    "    net = deepcopy(net)\n",
    "    pd2ppc = net._pd2ppc_lookups[\"bus\"]  # Pandas bus num --> internal bus num.\n",
    "    for b, extra_p in enumerate(load_p):\n",
    "        pp.create_load(net, np.where(pd2ppc == b)[0][0], extra_p)\n",
    "    pp.runpp(net, algorithm=algorithm)\n",
    "    return net.res_ext_grid['p_mw'].sum()"
   ]
  },
  {
   "cell_type": "code",
   "execution_count": 3,
   "metadata": {},
   "outputs": [
    {
     "name": "stdout",
     "output_type": "stream",
     "text": [
      "MLFs at each node calculated using pandapower with finite differences.\n",
      "[1.000 0.952 0.961 1.000 1.011 0.961 0.966 0.952 1.010]\n"
     ]
    }
   ],
   "source": [
    "def mlf_fin_diff(net):\n",
    "    pp.runpp(net)\n",
    "    load_p = np.zeros((net.bus.shape[0], ), np.float32)\n",
    "    mlfs = fin_diff(lambda x: run_lf_pp(x, net, 'nr'), load_p)\n",
    "    print(f'MLFs at each node calculated using pandapower with finite differences.')\n",
    "    print(mlfs)\n",
    "mlf_fin_diff(ppnw.case9())"
   ]
  },
  {
   "cell_type": "markdown",
   "metadata": {},
   "source": [
    "# II. Automatic Differentiation\n",
    "Here we define methods to perform a Guass-Seidel load flow using a pandapower network as the starting point.\n",
    "The network structure is pulled from the pandapower network, as well as the pre-constructed ybus.\n",
    "\n",
    "The Gauss-Seidel implementation is written to make it compatible with the ``autograd`` library.\n",
    "The main restriction is ensuring that assignment into arrays is not performed.\n",
    "e.g. ``x = np.array([...]); x[1] = 2`` is not permitted, as this is assigning the a value into the array."
   ]
  },
  {
   "cell_type": "code",
   "execution_count": 4,
   "metadata": {},
   "outputs": [],
   "source": [
    "def init_v(net, n, pd2ppc):\n",
    "    \"\"\" Initial bus voltage vector using generator voltage setpoints or 1j+0pu. \"\"\"\n",
    "    v = [0j + 1 for _ in range(n)]\n",
    "    for r in net.gen.itertuples():\n",
    "        v[pd2ppc[r.bus]] = r.vm_pu\n",
    "    for r in net.ext_grid.itertuples():\n",
    "        v[pd2ppc[r.bus]] = r.vm_pu * np.exp(1j * r.va_degree * np.pi / 180)\n",
    "    return np.array(v, dtype=np.complex64)\n",
    "\n",
    "\n",
    "def scheduled_p_q(net, n, pd2ppc):\n",
    "    \"\"\" Return known per unit real and reactive power injected at each bus.\n",
    "    Does not include slack real/reactive powers nor PV gen reactive power.\n",
    "    \"\"\"\n",
    "    psch, qsch = {b: 0 for b in range(n)}, {b: 0 for b in range(n)}\n",
    "    for r in net.gen.itertuples():\n",
    "        psch[pd2ppc[r.bus]] += r.p_mw / net.sn_mva\n",
    "    for r in net.sgen.itertuples():\n",
    "        psch[pd2ppc[r.bus]] += r.p_mw / net.sn_mva\n",
    "        qsch[pd2ppc[r.bus]] += r.q_mvar / net.sn_mva\n",
    "    for r in net.load.itertuples():\n",
    "        psch[pd2ppc[r.bus]] -= r.p_mw / net.sn_mva\n",
    "        qsch[pd2ppc[r.bus]] -= r.q_mvar / net.sn_mva\n",
    "    return psch, qsch\n",
    "\n",
    "\n",
    "def run_lf(load_p, net, tol=1e-9, comp_tol=1e-3, max_iter=10000):\n",
    "    \"\"\" Perform Gauss-Seidel power flow on the given pandapower network.\n",
    "\n",
    "    The ``load_p`` array is an iterable of additional real power load to add\n",
    "    to each bus. By providing this as an input, this python function becomes\n",
    "    the function ``slack_power = f(load_power)`` and thus the derivative of\n",
    "    slack power with respect to load power can be calculated.\n",
    "\n",
    "    By restricting the values of `load_p` to be very small we can ensure that\n",
    "    this function is solving the load flow correctly by comparing it to the\n",
    "    results in the pandapower network. Restricting to very small does not interfere\n",
    "    with calculation of the derivative - that is, the derivative of\n",
    "    x (the small value given as input) plus a constant (the load power specified\n",
    "    in the pandapower network object) is equal to the derivative of x alone.\n",
    "\n",
    "    Args:\n",
    "        load_p (iterable): Iterable of very small values.\n",
    "            Really, the power flow will work with non-zero but the consistency\n",
    "            assertion with pandapower will fail.\n",
    "        net (pp.Network): Solved Pandapower network object that defines the\n",
    "            elements of the network and contains the ybus matrix.\n",
    "        tol (float): Convergence tolerance (voltage).\n",
    "        comp_tol (float): Tolerance for comparison check against pandapower.\n",
    "        max_iter(int): Max iterations to solve load flow.\n",
    "\n",
    "    Returns:\n",
    "        float: Sum of real power injected by slack buses in the network.\n",
    "    \"\"\"\n",
    "    ybus = np.array(net._ppc[\"internal\"][\"Ybus\"].todense())\n",
    "    pd2ppc = net._pd2ppc_lookups[\"bus\"]  # Pandas bus num --> internal bus num.\n",
    "    n = ybus.shape[0]  # Number of buses.\n",
    "    slack_buses = set(pd2ppc[net.ext_grid['bus']])\n",
    "    gen_buses = set([pd2ppc[b] for b in net.gen['bus']])\n",
    "    ybus_hollow = ybus * (1 - np.eye(n))  # ybus with diagonal elements zeroed.\n",
    "    v = init_v(net, n, pd2ppc)\n",
    "    psch, qsch = scheduled_p_q(net, n, pd2ppc)\n",
    "    # Incorporate the variables we are differentiating with respect to:\n",
    "    psch = {b: p - load_p[b] for b, p in psch.items()}\n",
    "\n",
    "    it = 0\n",
    "    while it < max_iter:\n",
    "        old_v, v = v, [x for x in v]\n",
    "        for b in [b for b in range(n) if b not in slack_buses]:\n",
    "            qsch_b = (-1*np.imag(np.conj(old_v[b]) * np.sum(ybus[b, :] * old_v))\n",
    "                      if b in gen_buses else qsch[b])\n",
    "            v[b] = (1/ybus[b, b]) * ((psch[b]-1j*qsch_b)/np.conj(old_v[b])\n",
    "                                     - np.sum(ybus_hollow[b, :] * old_v))\n",
    "            if b in gen_buses:\n",
    "                v[b] = np.abs(old_v[b]) * v[b] / np.abs(v[b])  # Only use angle.\n",
    "        it += 1\n",
    "        v = np.array(v)\n",
    "        if np.allclose(v, old_v, rtol=tol, atol=0):\n",
    "            break\n",
    "    p_slack = sum((np.real(np.conj(v[b]) * np.sum(ybus[b, :] * v)) - psch[b])\n",
    "                  for b in slack_buses)\n",
    "    # Assert convergence and consistency with pandapower.\n",
    "    assert it < max_iter, f'Load flow not converged in {it} iterations.'\n",
    "    assert np.allclose(v, net._ppc[\"internal\"][\"V\"], atol=comp_tol, rtol=0),\\\n",
    "           f'Voltage\\npp:\\t\\t{net._ppc[\"internal\"][\"V\"]}\\nsolved:\\t{v}'\n",
    "    assert np.allclose(p_slack, net.res_ext_grid['p_mw'].sum(), atol=comp_tol, rtol=0),\\\n",
    "           f'Slack Power\\npp:\\t\\t{net.res_ext_grid[\"p_mw\"].sum()}\\nsolved:\\t{p_slack}'\n",
    "    return p_slack"
   ]
  },
  {
   "cell_type": "code",
   "execution_count": 7,
   "metadata": {},
   "outputs": [
    {
     "name": "stdout",
     "output_type": "stream",
     "text": [
      "MLFs at each node calculated using custom Guass-Seidel with automatic differentiation.\n",
      "[1.000 0.952 0.961 1.000 1.011 0.961 0.966 0.952 1.010]\n"
     ]
    }
   ],
   "source": [
    "def mlf_auto_diff(net):\n",
    "    pp.runpp(net)  # Make sure network contains ybus and the solution values.\n",
    "    load_p = np.zeros((net.bus.shape[0], ), np.float32)\n",
    "    f_grad_p_slack = grad(lambda x: run_lf(x, net))\n",
    "    mlfs = f_grad_p_slack(load_p)\n",
    "    print(f'MLFs at each node calculated using custom Guass-Seidel with automatic differentiation.')\n",
    "    print(mlfs)\n",
    "mlf_auto_diff(ppnw.case9())"
   ]
  },
  {
   "cell_type": "markdown",
   "metadata": {},
   "source": [
    "This works fine with larger networks too. The Gauss-Seidel implementation is by no means efficient though."
   ]
  },
  {
   "cell_type": "code",
   "execution_count": 6,
   "metadata": {},
   "outputs": [
    {
     "name": "stdout",
     "output_type": "stream",
     "text": [
      "MLFs at each node calculated using custom Guass-Seidel with automatic differentiation.\n",
      "[1.000 1.004 1.036 1.015 1.015 1.031 1.029 1.033 1.043 1.050 1.057 1.054\n",
      " 1.019 1.041 1.037 1.011 1.033 1.026 1.045 1.014 1.026 1.043 1.063 1.022\n",
      " 1.019 1.028 1.034 1.034 1.036 1.040]\n"
     ]
    }
   ],
   "source": [
    "mlf_auto_diff(ppnw.case30())"
   ]
  }
 ],
 "metadata": {
  "kernelspec": {
   "display_name": "Python 3",
   "language": "python",
   "name": "python3"
  },
  "language_info": {
   "codemirror_mode": {
    "name": "ipython",
    "version": 3
   },
   "file_extension": ".py",
   "mimetype": "text/x-python",
   "name": "python",
   "nbconvert_exporter": "python",
   "pygments_lexer": "ipython3",
   "version": "3.7.7"
  }
 },
 "nbformat": 4,
 "nbformat_minor": 4
}
